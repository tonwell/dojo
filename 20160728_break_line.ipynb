{
 "cells": [
  {
   "cell_type": "markdown",
   "metadata": {},
   "source": [
    "# :)\n",
    "\n",
    "- Join\n",
    "- Filtro\n",
    "- Lista Recursiva\n",
    "- Programação Orientada a Teste\n",
    "- Monteiro Sans\n",
    "- O que é deque?\n",
    "- Castilho não perdeu o jogo\n",
    "\n",
    "# :(\n",
    "\n",
    "- Não teve bandejão\n",
    "- O que é deque?\n",
    "- Monteiro escondeu biscoito\n",
    "\n",
    "# Sugestões\n",
    "\n",
    "- Mudar linguagem\n",
    "- Nada de Java\n",
    "- Não\n",
    "\n",
    "# Participantes\n",
    "\n",
    "- Castilho\n",
    "- Marcelo\n",
    "- JF\n",
    "- Wellington\n",
    "- Monteiro"
   ]
  },
  {
   "cell_type": "code",
   "execution_count": 1,
   "metadata": {
    "collapsed": true
   },
   "outputs": [],
   "source": [
    "%load_ext ipython_unittest"
   ]
  },
  {
   "cell_type": "code",
   "execution_count": 117,
   "metadata": {
    "collapsed": true
   },
   "outputs": [],
   "source": [
    "def break_line(string, cols):\n",
    "    words = filter(lambda x: x, string.split(\" \"))\n",
    "    result = [[]]\n",
    "    size = 0\n",
    "    for word in words:\n",
    "        if size + len(word) > cols:\n",
    "            result.append([])\n",
    "            size = 0\n",
    "        result[-1].append(word)\n",
    "        size += len(word) + 1\n",
    "            \n",
    "    return \"\\n\".join(\" \".join(line) for line in result)"
   ]
  },
  {
   "cell_type": "code",
   "execution_count": 118,
   "metadata": {
    "collapsed": false
   },
   "outputs": [
    {
     "data": {
      "application/javascript": [
       "\n",
       "\n",
       "            var DojoClock = {\n",
       "              seconds: 300,\n",
       "              default: 300,\n",
       "              mouseOver: false,\n",
       "\n",
       "\n",
       "              secToMMSS: function (sec) {\n",
       "                var minutes = Math.floor(sec / 60);\n",
       "                var seconds = sec - (minutes * 60);\n",
       "                if (minutes < 10) { minutes = \"0\" + minutes; }\n",
       "                if (seconds < 10) { seconds = \"0\" + seconds; }\n",
       "                return minutes + \":\" + seconds;\n",
       "              },\n",
       "\n",
       "              display: function () {\n",
       "                var self = this;\n",
       "                $(\"#dojo-timer-time\").text(self.secToMMSS(self.seconds));\n",
       "              },\n",
       "\n",
       "              viewText: function() {\n",
       "                var self = this;\n",
       "                if ($(\"#dojo-eye\").hasClass(\"fa-eye\") ||\n",
       "                    $(\"#dojo-play-pause-icon\").hasClass(\"fa-play\") ||\n",
       "                    self.mouseOver) {\n",
       "                  $(\"#dojo-timer-time\").css(\"color\", \"black\");\n",
       "                } else {\n",
       "                  $(\"#dojo-timer-time\").css(\"color\", \"transparent\");\n",
       "                }\n",
       "              },\n",
       "\n",
       "              start: function () {\n",
       "                var self = this;\n",
       "                $(\"#dojo-play-pause-icon\").removeClass(\"fa-play\");\n",
       "                $(\"#dojo-play-pause-icon\").addClass(\"fa-pause\");\n",
       "\n",
       "                this.interval = setInterval(function () {\n",
       "                  self.display();\n",
       "                  if (self.seconds == 0) {\n",
       "                    self.pause();\n",
       "                    alert(\"Time is up. Click ok to restart timer\");\n",
       "                    self.seconds = self.default;\n",
       "                    self.start();\n",
       "                  } else {\n",
       "                    self.seconds--;\n",
       "                  }\n",
       "                  self.viewText();\n",
       "\n",
       "                }, 1000);\n",
       "                $(\"#dojo-timer-interval\").text(this.interval);\n",
       "              },\n",
       "\n",
       "              pause: function () {\n",
       "                var self = this;\n",
       "                $(\"#dojo-play-pause-icon\").addClass(\"fa-play\");\n",
       "                $(\"#dojo-play-pause-icon\").removeClass(\"fa-pause\");\n",
       "                $(\"#dojo-timer-interval\").text(\"\");\n",
       "                clearInterval(this.interval);\n",
       "                delete this.interval;\n",
       "                self.viewText();\n",
       "              },\n",
       "\n",
       "              resume: function () {\n",
       "                if (!this.interval) this.start();\n",
       "              },\n",
       "\n",
       "              reset: function () {\n",
       "                var self = this;\n",
       "                self.seconds = self.default;\n",
       "                self.display();\n",
       "                self.pause();\n",
       "              }\n",
       "\n",
       "            }\n",
       "\n",
       "            //if ($(\"#dojo-timer\").length) {\n",
       "            //  var interval = parseInt($(\"#dojo-timer-interval\").text());\n",
       "            //  clearInterval(interval);\n",
       "            //  $(\"#dojo-timer\").remove();\n",
       "            //}\n",
       "            if (!$(\"#dojo-timer\").length) {\n",
       "              $(\"#kernel_indicator\").after(\n",
       "                '<div id=\"dojo-timer\" class=\"navbar-text indicator_area\">' +\n",
       "                  '<span id=\"dojo-timer-interval\" ' +\n",
       "                   'style=\"margin: 0 5px; display: none;\"></span>' +\n",
       "                  '<a href=\"#\" id=\"dojo-play-pause\" ' +\n",
       "                   'style=\"color:rgb(119,119,119); margin: 0 5px;\">' +\n",
       "                    '<i id=\"dojo-play-pause-icon\" title=\"Play/Pause Timer\" ' +\n",
       "                     'class=\"fa fa-play\" id=\"refresh_timer_icon\"></i>' +\n",
       "                  '</a>' +\n",
       "                  '<a href=\"#\" id=\"dojo-time-toggler\" ' +\n",
       "                   'style=\"color:rgb(119,119,119);\">' +\n",
       "                    '<i id=\"dojo-eye\" title=\"Toggle Timer\" ' +\n",
       "                     'class=\"fa fa-eye-slash\" id=\"refresh_timer_icon\"></i>' +\n",
       "                  '</a>' +\n",
       "                  '<span id=\"dojo-timer-time\" ' +\n",
       "                   'style=\"margin: 0 5px; color:black;\">05:00</span>' +\n",
       "                  '<a href=\"#\" id=\"dojo-reset-time\" ' +\n",
       "                   'style=\"color:rgb(119,119,119);\">' +\n",
       "                    '<i title=\"Reset Time\" class=\"fa fa-refresh\"></i>' +\n",
       "                  '</a>' +\n",
       "                  '<a href=\"#\" id=\"dojo-configure-time\" ' +\n",
       "                   'style=\"color:rgb(119,119,119); margin: 0 5px;\">' +\n",
       "                    '<i title=\"Configure Time\" class=\"fa fa-wrench\"></i>'+\n",
       "                  '</a>' +\n",
       "                '</div>'\n",
       "              );\n",
       "              $(\"#dojo-timer-time\").hover(function(e) {\n",
       "                if ($(\"#dojo-eye\").hasClass(\"fa-eye-slash\")) {\n",
       "                  DojoClock.mouseOver = e.type === \"mouseenter\";\n",
       "                  DojoClock.viewText();\n",
       "                }\n",
       "              });\n",
       "              $(\"#dojo-reset-time\").click(function() {\n",
       "                DojoClock.reset();\n",
       "              });\n",
       "              $(\"#dojo-configure-time\").click(function() {\n",
       "                var time = prompt(\"New time in seconds\", DojoClock.default);\n",
       "                DojoClock.default = time;\n",
       "                DojoClock.reset();\n",
       "              });\n",
       "              $(\"#dojo-time-toggler\").click(function() {\n",
       "                if ($(\"#dojo-eye\").hasClass(\"fa-eye-slash\")) {\n",
       "                  $(\"#dojo-eye\").removeClass(\"fa-eye-slash\");\n",
       "                  $(\"#dojo-eye\").addClass(\"fa-eye\");\n",
       "                } else {\n",
       "                  $(\"#dojo-eye\").addClass(\"fa-eye-slash\");\n",
       "                  $(\"#dojo-eye\").removeClass(\"fa-eye\");\n",
       "                }\n",
       "                DojoClock.viewText();\n",
       "              });\n",
       "              $(\"#dojo-play-pause\").click(function() {\n",
       "                if ($(\"#dojo-play-pause-icon\").hasClass(\"fa-pause\")) {\n",
       "                  DojoClock.pause()\n",
       "                } else {\n",
       "                  DojoClock.resume();\n",
       "                }\n",
       "              });\n",
       "            }\n",
       "\n",
       "            "
      ],
      "text/plain": [
       "<IPython.core.display.Javascript object>"
      ]
     },
     "metadata": {},
     "output_type": "display_data"
    },
    {
     "data": {
      "application/javascript": [
       "$('#dojo-timer-time').css(\"background-color\",\"yellow\");"
      ],
      "text/plain": [
       "<IPython.core.display.Javascript object>"
      ]
     },
     "metadata": {},
     "output_type": "display_data"
    },
    {
     "data": {
      "application/javascript": [
       "Jupyter.notebook.select(Jupyter.notebook.get_selected_index() - 2)"
      ],
      "text/plain": [
       "<IPython.core.display.Javascript object>"
      ]
     },
     "metadata": {},
     "output_type": "display_data"
    },
    {
     "name": "stdout",
     "output_type": "stream",
     "text": [
      "...........\n",
      "----------------------------------------------------------------------\n",
      "Ran 11 tests in 0.013s\n",
      "\n",
      "OK\n"
     ]
    },
    {
     "data": {
      "application/javascript": [
       "$('#dojo-timer-time').css(\"background-color\",\"lightgreen\");"
      ],
      "text/plain": [
       "<IPython.core.display.Javascript object>"
      ]
     },
     "metadata": {},
     "output_type": "display_data"
    },
    {
     "data": {
      "text/plain": [
       "<unittest.runner.TextTestResult run=11 errors=0 failures=0>"
      ]
     },
     "execution_count": 118,
     "metadata": {},
     "output_type": "execute_result"
    }
   ],
   "source": [
    "%%unittest -p 1 -d\n",
    "assert break_line(\"\", 10) == \"\"\n",
    "assert break_line(\"fasdf\", 10) == \"fasdf\"\n",
    "assert break_line(\"a b\", 2) == \"a\\nb\"\n",
    "assert break_line(\"a c\", 2) == \"a\\nc\"\n",
    "assert break_line(\"a c d\", 3) == \"a c\\nd\"\n",
    "assert break_line(\"a b d\", 3) == \"a b\\nd\"\n",
    "assert break_line(\"1 2 3 4\", 5) == \"1 2 3\\n4\"\n",
    "assert break_line(\"1 2 3 4 5\", 3) == \"1 2\\n3 4\\n5\"\n",
    "assert break_line(\"12 12 3\", 2) == \"12\\n12\\n3\"\n",
    "assert break_line(\"a  b\", 3) == \"a b\"\n",
    "assert break_line(\"Um pequeno jabuti xereta viu dez cegonhas felizes.\", 20) == \"Um pequeno jabuti\\nxereta viu dez\\ncegonhas felizes.\""
   ]
  },
  {
   "cell_type": "code",
   "execution_count": 77,
   "metadata": {
    "collapsed": false
   },
   "outputs": [
    {
     "data": {
      "text/plain": [
       "[1, [...]]"
      ]
     },
     "execution_count": 77,
     "metadata": {},
     "output_type": "execute_result"
    }
   ],
   "source": [
    "lista = [1]\n",
    "lista.append(lista)\n",
    "lista[1][1][1][1]"
   ]
  },
  {
   "cell_type": "code",
   "execution_count": 99,
   "metadata": {
    "collapsed": false
   },
   "outputs": [
    {
     "data": {
      "text/plain": [
       "['a', '', 'b']"
      ]
     },
     "execution_count": 99,
     "metadata": {},
     "output_type": "execute_result"
    }
   ],
   "source": [
    "\"a  b\".split(\" \")"
   ]
  },
  {
   "cell_type": "code",
   "execution_count": null,
   "metadata": {
    "collapsed": true
   },
   "outputs": [],
   "source": []
  }
 ],
 "metadata": {
  "kernelspec": {
   "display_name": "Python 3",
   "language": "python",
   "name": "python3"
  },
  "language_info": {
   "codemirror_mode": {
    "name": "ipython",
    "version": 3
   },
   "file_extension": ".py",
   "mimetype": "text/x-python",
   "name": "python",
   "nbconvert_exporter": "python",
   "pygments_lexer": "ipython3",
   "version": "3.5.2"
  }
 },
 "nbformat": 4,
 "nbformat_minor": 0
}
